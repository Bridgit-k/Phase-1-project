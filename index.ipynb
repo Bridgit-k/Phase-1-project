{
 "cells": [
  {
   "cell_type": "markdown",
   "id": "19de6f64",
   "metadata": {},
   "source": [
    "First we import all the necessary libraries."
   ]
  },
  {
   "cell_type": "code",
   "execution_count": 1,
   "id": "d2f2da9f",
   "metadata": {},
   "outputs": [],
   "source": [
    "import pandas as pd\n",
    "import numpy as np\n",
    "import matplotlib.pyplot as plt\n",
    "%matplotlib inline\n",
    "import seaborn as sns"
   ]
  },
  {
   "cell_type": "markdown",
   "id": "2eb13de7",
   "metadata": {},
   "source": [
    "We then open the csv file in our notebook amd make it readable."
   ]
  },
  {
   "cell_type": "code",
   "execution_count": 2,
   "id": "d9e38cef",
   "metadata": {},
   "outputs": [
    {
     "name": "stderr",
     "output_type": "stream",
     "text": [
      "C:\\Users\\Elitebook\\AppData\\Local\\Temp\\ipykernel_14648\\568665875.py:1: DtypeWarning: Columns (6,7,28) have mixed types. Specify dtype option on import or set low_memory=False.\n",
      "  df= pd.read_csv('Aviation_Data.csv')\n"
     ]
    }
   ],
   "source": [
    "df= pd.read_csv('Aviation_Data.csv')"
   ]
  },
  {
   "cell_type": "markdown",
   "id": "d49cbf3c",
   "metadata": {},
   "source": [
    "*Data Understanding*"
   ]
  },
  {
   "cell_type": "markdown",
   "id": "908b579c",
   "metadata": {},
   "source": [
    "After that, we check the information of the data set so that we get to know it better in order to manipulate it correctly and form correct conclutions from the data set. \n",
    "The .info() method lets us know the number of rows, columns and the data types of each columns and also if the columns have null values or not."
   ]
  },
  {
   "cell_type": "code",
   "execution_count": 3,
   "id": "94addabc",
   "metadata": {},
   "outputs": [
    {
     "name": "stdout",
     "output_type": "stream",
     "text": [
      "<class 'pandas.core.frame.DataFrame'>\n",
      "RangeIndex: 90348 entries, 0 to 90347\n",
      "Data columns (total 31 columns):\n",
      " #   Column                  Non-Null Count  Dtype  \n",
      "---  ------                  --------------  -----  \n",
      " 0   Event.Id                88889 non-null  object \n",
      " 1   Investigation.Type      90348 non-null  object \n",
      " 2   Accident.Number         88889 non-null  object \n",
      " 3   Event.Date              88889 non-null  object \n",
      " 4   Location                88837 non-null  object \n",
      " 5   Country                 88663 non-null  object \n",
      " 6   Latitude                34382 non-null  object \n",
      " 7   Longitude               34373 non-null  object \n",
      " 8   Airport.Code            50132 non-null  object \n",
      " 9   Airport.Name            52704 non-null  object \n",
      " 10  Injury.Severity         87889 non-null  object \n",
      " 11  Aircraft.damage         85695 non-null  object \n",
      " 12  Aircraft.Category       32287 non-null  object \n",
      " 13  Registration.Number     87507 non-null  object \n",
      " 14  Make                    88826 non-null  object \n",
      " 15  Model                   88797 non-null  object \n",
      " 16  Amateur.Built           88787 non-null  object \n",
      " 17  Number.of.Engines       82805 non-null  float64\n",
      " 18  Engine.Type             81793 non-null  object \n",
      " 19  FAR.Description         32023 non-null  object \n",
      " 20  Schedule                12582 non-null  object \n",
      " 21  Purpose.of.flight       82697 non-null  object \n",
      " 22  Air.carrier             16648 non-null  object \n",
      " 23  Total.Fatal.Injuries    77488 non-null  float64\n",
      " 24  Total.Serious.Injuries  76379 non-null  float64\n",
      " 25  Total.Minor.Injuries    76956 non-null  float64\n",
      " 26  Total.Uninjured         82977 non-null  float64\n",
      " 27  Weather.Condition       84397 non-null  object \n",
      " 28  Broad.phase.of.flight   61724 non-null  object \n",
      " 29  Report.Status           82505 non-null  object \n",
      " 30  Publication.Date        73659 non-null  object \n",
      "dtypes: float64(5), object(26)\n",
      "memory usage: 21.4+ MB\n"
     ]
    }
   ],
   "source": [
    "df.info()"
   ]
  },
  {
   "cell_type": "code",
   "execution_count": 4,
   "id": "27baa54b",
   "metadata": {},
   "outputs": [
    {
     "data": {
      "text/plain": [
       "(90348, 31)"
      ]
     },
     "execution_count": 4,
     "metadata": {},
     "output_type": "execute_result"
    }
   ],
   "source": [
    "df.shape"
   ]
  },
  {
   "cell_type": "markdown",
   "id": "656dac2d",
   "metadata": {},
   "source": [
    "We then use the .head() method to che the first few rows to see how the values of the data set appear."
   ]
  },
  {
   "cell_type": "code",
   "execution_count": 5,
   "id": "7cbe9d40",
   "metadata": {},
   "outputs": [
    {
     "data": {
      "text/html": [
       "<div>\n",
       "<style scoped>\n",
       "    .dataframe tbody tr th:only-of-type {\n",
       "        vertical-align: middle;\n",
       "    }\n",
       "\n",
       "    .dataframe tbody tr th {\n",
       "        vertical-align: top;\n",
       "    }\n",
       "\n",
       "    .dataframe thead th {\n",
       "        text-align: right;\n",
       "    }\n",
       "</style>\n",
       "<table border=\"1\" class=\"dataframe\">\n",
       "  <thead>\n",
       "    <tr style=\"text-align: right;\">\n",
       "      <th></th>\n",
       "      <th>Event.Id</th>\n",
       "      <th>Investigation.Type</th>\n",
       "      <th>Accident.Number</th>\n",
       "      <th>Event.Date</th>\n",
       "      <th>Location</th>\n",
       "      <th>Country</th>\n",
       "      <th>Latitude</th>\n",
       "      <th>Longitude</th>\n",
       "      <th>Airport.Code</th>\n",
       "      <th>Airport.Name</th>\n",
       "      <th>...</th>\n",
       "      <th>Purpose.of.flight</th>\n",
       "      <th>Air.carrier</th>\n",
       "      <th>Total.Fatal.Injuries</th>\n",
       "      <th>Total.Serious.Injuries</th>\n",
       "      <th>Total.Minor.Injuries</th>\n",
       "      <th>Total.Uninjured</th>\n",
       "      <th>Weather.Condition</th>\n",
       "      <th>Broad.phase.of.flight</th>\n",
       "      <th>Report.Status</th>\n",
       "      <th>Publication.Date</th>\n",
       "    </tr>\n",
       "  </thead>\n",
       "  <tbody>\n",
       "    <tr>\n",
       "      <th>0</th>\n",
       "      <td>20001218X45444</td>\n",
       "      <td>Accident</td>\n",
       "      <td>SEA87LA080</td>\n",
       "      <td>1948-10-24</td>\n",
       "      <td>MOOSE CREEK, ID</td>\n",
       "      <td>United States</td>\n",
       "      <td>NaN</td>\n",
       "      <td>NaN</td>\n",
       "      <td>NaN</td>\n",
       "      <td>NaN</td>\n",
       "      <td>...</td>\n",
       "      <td>Personal</td>\n",
       "      <td>NaN</td>\n",
       "      <td>2.0</td>\n",
       "      <td>0.0</td>\n",
       "      <td>0.0</td>\n",
       "      <td>0.0</td>\n",
       "      <td>UNK</td>\n",
       "      <td>Cruise</td>\n",
       "      <td>Probable Cause</td>\n",
       "      <td>NaN</td>\n",
       "    </tr>\n",
       "    <tr>\n",
       "      <th>1</th>\n",
       "      <td>20001218X45447</td>\n",
       "      <td>Accident</td>\n",
       "      <td>LAX94LA336</td>\n",
       "      <td>1962-07-19</td>\n",
       "      <td>BRIDGEPORT, CA</td>\n",
       "      <td>United States</td>\n",
       "      <td>NaN</td>\n",
       "      <td>NaN</td>\n",
       "      <td>NaN</td>\n",
       "      <td>NaN</td>\n",
       "      <td>...</td>\n",
       "      <td>Personal</td>\n",
       "      <td>NaN</td>\n",
       "      <td>4.0</td>\n",
       "      <td>0.0</td>\n",
       "      <td>0.0</td>\n",
       "      <td>0.0</td>\n",
       "      <td>UNK</td>\n",
       "      <td>Unknown</td>\n",
       "      <td>Probable Cause</td>\n",
       "      <td>19-09-1996</td>\n",
       "    </tr>\n",
       "    <tr>\n",
       "      <th>2</th>\n",
       "      <td>20061025X01555</td>\n",
       "      <td>Accident</td>\n",
       "      <td>NYC07LA005</td>\n",
       "      <td>1974-08-30</td>\n",
       "      <td>Saltville, VA</td>\n",
       "      <td>United States</td>\n",
       "      <td>36.922223</td>\n",
       "      <td>-81.878056</td>\n",
       "      <td>NaN</td>\n",
       "      <td>NaN</td>\n",
       "      <td>...</td>\n",
       "      <td>Personal</td>\n",
       "      <td>NaN</td>\n",
       "      <td>3.0</td>\n",
       "      <td>NaN</td>\n",
       "      <td>NaN</td>\n",
       "      <td>NaN</td>\n",
       "      <td>IMC</td>\n",
       "      <td>Cruise</td>\n",
       "      <td>Probable Cause</td>\n",
       "      <td>26-02-2007</td>\n",
       "    </tr>\n",
       "    <tr>\n",
       "      <th>3</th>\n",
       "      <td>20001218X45448</td>\n",
       "      <td>Accident</td>\n",
       "      <td>LAX96LA321</td>\n",
       "      <td>1977-06-19</td>\n",
       "      <td>EUREKA, CA</td>\n",
       "      <td>United States</td>\n",
       "      <td>NaN</td>\n",
       "      <td>NaN</td>\n",
       "      <td>NaN</td>\n",
       "      <td>NaN</td>\n",
       "      <td>...</td>\n",
       "      <td>Personal</td>\n",
       "      <td>NaN</td>\n",
       "      <td>2.0</td>\n",
       "      <td>0.0</td>\n",
       "      <td>0.0</td>\n",
       "      <td>0.0</td>\n",
       "      <td>IMC</td>\n",
       "      <td>Cruise</td>\n",
       "      <td>Probable Cause</td>\n",
       "      <td>12-09-2000</td>\n",
       "    </tr>\n",
       "    <tr>\n",
       "      <th>4</th>\n",
       "      <td>20041105X01764</td>\n",
       "      <td>Accident</td>\n",
       "      <td>CHI79FA064</td>\n",
       "      <td>1979-08-02</td>\n",
       "      <td>Canton, OH</td>\n",
       "      <td>United States</td>\n",
       "      <td>NaN</td>\n",
       "      <td>NaN</td>\n",
       "      <td>NaN</td>\n",
       "      <td>NaN</td>\n",
       "      <td>...</td>\n",
       "      <td>Personal</td>\n",
       "      <td>NaN</td>\n",
       "      <td>1.0</td>\n",
       "      <td>2.0</td>\n",
       "      <td>NaN</td>\n",
       "      <td>0.0</td>\n",
       "      <td>VMC</td>\n",
       "      <td>Approach</td>\n",
       "      <td>Probable Cause</td>\n",
       "      <td>16-04-1980</td>\n",
       "    </tr>\n",
       "    <tr>\n",
       "      <th>5</th>\n",
       "      <td>20170710X52551</td>\n",
       "      <td>Accident</td>\n",
       "      <td>NYC79AA106</td>\n",
       "      <td>1979-09-17</td>\n",
       "      <td>BOSTON, MA</td>\n",
       "      <td>United States</td>\n",
       "      <td>42.445277</td>\n",
       "      <td>-70.758333</td>\n",
       "      <td>NaN</td>\n",
       "      <td>NaN</td>\n",
       "      <td>...</td>\n",
       "      <td>NaN</td>\n",
       "      <td>Air Canada</td>\n",
       "      <td>NaN</td>\n",
       "      <td>NaN</td>\n",
       "      <td>1.0</td>\n",
       "      <td>44.0</td>\n",
       "      <td>VMC</td>\n",
       "      <td>Climb</td>\n",
       "      <td>Probable Cause</td>\n",
       "      <td>19-09-2017</td>\n",
       "    </tr>\n",
       "    <tr>\n",
       "      <th>6</th>\n",
       "      <td>20001218X45446</td>\n",
       "      <td>Accident</td>\n",
       "      <td>CHI81LA106</td>\n",
       "      <td>1981-08-01</td>\n",
       "      <td>COTTON, MN</td>\n",
       "      <td>United States</td>\n",
       "      <td>NaN</td>\n",
       "      <td>NaN</td>\n",
       "      <td>NaN</td>\n",
       "      <td>NaN</td>\n",
       "      <td>...</td>\n",
       "      <td>Personal</td>\n",
       "      <td>NaN</td>\n",
       "      <td>4.0</td>\n",
       "      <td>0.0</td>\n",
       "      <td>0.0</td>\n",
       "      <td>0.0</td>\n",
       "      <td>IMC</td>\n",
       "      <td>Unknown</td>\n",
       "      <td>Probable Cause</td>\n",
       "      <td>06-11-2001</td>\n",
       "    </tr>\n",
       "    <tr>\n",
       "      <th>7</th>\n",
       "      <td>20020909X01562</td>\n",
       "      <td>Accident</td>\n",
       "      <td>SEA82DA022</td>\n",
       "      <td>1982-01-01</td>\n",
       "      <td>PULLMAN, WA</td>\n",
       "      <td>United States</td>\n",
       "      <td>NaN</td>\n",
       "      <td>NaN</td>\n",
       "      <td>NaN</td>\n",
       "      <td>BLACKBURN AG STRIP</td>\n",
       "      <td>...</td>\n",
       "      <td>Personal</td>\n",
       "      <td>NaN</td>\n",
       "      <td>0.0</td>\n",
       "      <td>0.0</td>\n",
       "      <td>0.0</td>\n",
       "      <td>2.0</td>\n",
       "      <td>VMC</td>\n",
       "      <td>Takeoff</td>\n",
       "      <td>Probable Cause</td>\n",
       "      <td>01-01-1982</td>\n",
       "    </tr>\n",
       "    <tr>\n",
       "      <th>8</th>\n",
       "      <td>20020909X01561</td>\n",
       "      <td>Accident</td>\n",
       "      <td>NYC82DA015</td>\n",
       "      <td>1982-01-01</td>\n",
       "      <td>EAST HANOVER, NJ</td>\n",
       "      <td>United States</td>\n",
       "      <td>NaN</td>\n",
       "      <td>NaN</td>\n",
       "      <td>N58</td>\n",
       "      <td>HANOVER</td>\n",
       "      <td>...</td>\n",
       "      <td>Business</td>\n",
       "      <td>NaN</td>\n",
       "      <td>0.0</td>\n",
       "      <td>0.0</td>\n",
       "      <td>0.0</td>\n",
       "      <td>2.0</td>\n",
       "      <td>IMC</td>\n",
       "      <td>Landing</td>\n",
       "      <td>Probable Cause</td>\n",
       "      <td>01-01-1982</td>\n",
       "    </tr>\n",
       "    <tr>\n",
       "      <th>9</th>\n",
       "      <td>20020909X01560</td>\n",
       "      <td>Accident</td>\n",
       "      <td>MIA82DA029</td>\n",
       "      <td>1982-01-01</td>\n",
       "      <td>JACKSONVILLE, FL</td>\n",
       "      <td>United States</td>\n",
       "      <td>NaN</td>\n",
       "      <td>NaN</td>\n",
       "      <td>JAX</td>\n",
       "      <td>JACKSONVILLE INTL</td>\n",
       "      <td>...</td>\n",
       "      <td>Personal</td>\n",
       "      <td>NaN</td>\n",
       "      <td>0.0</td>\n",
       "      <td>0.0</td>\n",
       "      <td>3.0</td>\n",
       "      <td>0.0</td>\n",
       "      <td>IMC</td>\n",
       "      <td>Cruise</td>\n",
       "      <td>Probable Cause</td>\n",
       "      <td>01-01-1982</td>\n",
       "    </tr>\n",
       "    <tr>\n",
       "      <th>10</th>\n",
       "      <td>20020909X01559</td>\n",
       "      <td>Accident</td>\n",
       "      <td>FTW82DA034</td>\n",
       "      <td>1982-01-01</td>\n",
       "      <td>HOBBS, NM</td>\n",
       "      <td>United States</td>\n",
       "      <td>NaN</td>\n",
       "      <td>NaN</td>\n",
       "      <td>NaN</td>\n",
       "      <td>NaN</td>\n",
       "      <td>...</td>\n",
       "      <td>Personal</td>\n",
       "      <td>NaN</td>\n",
       "      <td>0.0</td>\n",
       "      <td>0.0</td>\n",
       "      <td>0.0</td>\n",
       "      <td>1.0</td>\n",
       "      <td>VMC</td>\n",
       "      <td>Approach</td>\n",
       "      <td>Probable Cause</td>\n",
       "      <td>01-01-1982</td>\n",
       "    </tr>\n",
       "    <tr>\n",
       "      <th>11</th>\n",
       "      <td>20020909X01558</td>\n",
       "      <td>Accident</td>\n",
       "      <td>ATL82DKJ10</td>\n",
       "      <td>1982-01-01</td>\n",
       "      <td>TUSKEGEE, AL</td>\n",
       "      <td>United States</td>\n",
       "      <td>NaN</td>\n",
       "      <td>NaN</td>\n",
       "      <td>NaN</td>\n",
       "      <td>TUSKEGEE</td>\n",
       "      <td>...</td>\n",
       "      <td>Personal</td>\n",
       "      <td>NaN</td>\n",
       "      <td>0.0</td>\n",
       "      <td>0.0</td>\n",
       "      <td>0.0</td>\n",
       "      <td>1.0</td>\n",
       "      <td>VMC</td>\n",
       "      <td>Landing</td>\n",
       "      <td>Probable Cause</td>\n",
       "      <td>01-01-1982</td>\n",
       "    </tr>\n",
       "    <tr>\n",
       "      <th>12</th>\n",
       "      <td>20020917X02148</td>\n",
       "      <td>Accident</td>\n",
       "      <td>FTW82FRJ07</td>\n",
       "      <td>1982-01-02</td>\n",
       "      <td>HOMER, LA</td>\n",
       "      <td>United States</td>\n",
       "      <td>NaN</td>\n",
       "      <td>NaN</td>\n",
       "      <td>NaN</td>\n",
       "      <td>NaN</td>\n",
       "      <td>...</td>\n",
       "      <td>Personal</td>\n",
       "      <td>NaN</td>\n",
       "      <td>0.0</td>\n",
       "      <td>0.0</td>\n",
       "      <td>1.0</td>\n",
       "      <td>0.0</td>\n",
       "      <td>IMC</td>\n",
       "      <td>Cruise</td>\n",
       "      <td>Probable Cause</td>\n",
       "      <td>02-01-1983</td>\n",
       "    </tr>\n",
       "    <tr>\n",
       "      <th>13</th>\n",
       "      <td>20020917X02134</td>\n",
       "      <td>Accident</td>\n",
       "      <td>FTW82FRA14</td>\n",
       "      <td>1982-01-02</td>\n",
       "      <td>HEARNE, TX</td>\n",
       "      <td>United States</td>\n",
       "      <td>NaN</td>\n",
       "      <td>NaN</td>\n",
       "      <td>T72</td>\n",
       "      <td>HEARNE MUNICIPAL</td>\n",
       "      <td>...</td>\n",
       "      <td>Personal</td>\n",
       "      <td>NaN</td>\n",
       "      <td>1.0</td>\n",
       "      <td>0.0</td>\n",
       "      <td>0.0</td>\n",
       "      <td>0.0</td>\n",
       "      <td>IMC</td>\n",
       "      <td>Takeoff</td>\n",
       "      <td>Probable Cause</td>\n",
       "      <td>02-01-1983</td>\n",
       "    </tr>\n",
       "    <tr>\n",
       "      <th>14</th>\n",
       "      <td>20020917X02119</td>\n",
       "      <td>Accident</td>\n",
       "      <td>FTW82FPJ10</td>\n",
       "      <td>1982-01-02</td>\n",
       "      <td>CHICKASHA, OK</td>\n",
       "      <td>United States</td>\n",
       "      <td>NaN</td>\n",
       "      <td>NaN</td>\n",
       "      <td>NaN</td>\n",
       "      <td>NaN</td>\n",
       "      <td>...</td>\n",
       "      <td>Personal</td>\n",
       "      <td>NaN</td>\n",
       "      <td>1.0</td>\n",
       "      <td>0.0</td>\n",
       "      <td>0.0</td>\n",
       "      <td>0.0</td>\n",
       "      <td>IMC</td>\n",
       "      <td>Cruise</td>\n",
       "      <td>Probable Cause</td>\n",
       "      <td>02-01-1983</td>\n",
       "    </tr>\n",
       "  </tbody>\n",
       "</table>\n",
       "<p>15 rows × 31 columns</p>\n",
       "</div>"
      ],
      "text/plain": [
       "          Event.Id Investigation.Type Accident.Number  Event.Date  \\\n",
       "0   20001218X45444           Accident      SEA87LA080  1948-10-24   \n",
       "1   20001218X45447           Accident      LAX94LA336  1962-07-19   \n",
       "2   20061025X01555           Accident      NYC07LA005  1974-08-30   \n",
       "3   20001218X45448           Accident      LAX96LA321  1977-06-19   \n",
       "4   20041105X01764           Accident      CHI79FA064  1979-08-02   \n",
       "5   20170710X52551           Accident      NYC79AA106  1979-09-17   \n",
       "6   20001218X45446           Accident      CHI81LA106  1981-08-01   \n",
       "7   20020909X01562           Accident      SEA82DA022  1982-01-01   \n",
       "8   20020909X01561           Accident      NYC82DA015  1982-01-01   \n",
       "9   20020909X01560           Accident      MIA82DA029  1982-01-01   \n",
       "10  20020909X01559           Accident      FTW82DA034  1982-01-01   \n",
       "11  20020909X01558           Accident      ATL82DKJ10  1982-01-01   \n",
       "12  20020917X02148           Accident      FTW82FRJ07  1982-01-02   \n",
       "13  20020917X02134           Accident      FTW82FRA14  1982-01-02   \n",
       "14  20020917X02119           Accident      FTW82FPJ10  1982-01-02   \n",
       "\n",
       "            Location        Country   Latitude  Longitude Airport.Code  \\\n",
       "0    MOOSE CREEK, ID  United States        NaN        NaN          NaN   \n",
       "1     BRIDGEPORT, CA  United States        NaN        NaN          NaN   \n",
       "2      Saltville, VA  United States  36.922223 -81.878056          NaN   \n",
       "3         EUREKA, CA  United States        NaN        NaN          NaN   \n",
       "4         Canton, OH  United States        NaN        NaN          NaN   \n",
       "5         BOSTON, MA  United States  42.445277 -70.758333          NaN   \n",
       "6         COTTON, MN  United States        NaN        NaN          NaN   \n",
       "7        PULLMAN, WA  United States        NaN        NaN          NaN   \n",
       "8   EAST HANOVER, NJ  United States        NaN        NaN          N58   \n",
       "9   JACKSONVILLE, FL  United States        NaN        NaN          JAX   \n",
       "10         HOBBS, NM  United States        NaN        NaN          NaN   \n",
       "11      TUSKEGEE, AL  United States        NaN        NaN          NaN   \n",
       "12         HOMER, LA  United States        NaN        NaN          NaN   \n",
       "13        HEARNE, TX  United States        NaN        NaN          T72   \n",
       "14     CHICKASHA, OK  United States        NaN        NaN          NaN   \n",
       "\n",
       "          Airport.Name  ... Purpose.of.flight Air.carrier  \\\n",
       "0                  NaN  ...          Personal         NaN   \n",
       "1                  NaN  ...          Personal         NaN   \n",
       "2                  NaN  ...          Personal         NaN   \n",
       "3                  NaN  ...          Personal         NaN   \n",
       "4                  NaN  ...          Personal         NaN   \n",
       "5                  NaN  ...               NaN  Air Canada   \n",
       "6                  NaN  ...          Personal         NaN   \n",
       "7   BLACKBURN AG STRIP  ...          Personal         NaN   \n",
       "8              HANOVER  ...          Business         NaN   \n",
       "9    JACKSONVILLE INTL  ...          Personal         NaN   \n",
       "10                 NaN  ...          Personal         NaN   \n",
       "11            TUSKEGEE  ...          Personal         NaN   \n",
       "12                 NaN  ...          Personal         NaN   \n",
       "13    HEARNE MUNICIPAL  ...          Personal         NaN   \n",
       "14                 NaN  ...          Personal         NaN   \n",
       "\n",
       "   Total.Fatal.Injuries Total.Serious.Injuries Total.Minor.Injuries  \\\n",
       "0                   2.0                    0.0                  0.0   \n",
       "1                   4.0                    0.0                  0.0   \n",
       "2                   3.0                    NaN                  NaN   \n",
       "3                   2.0                    0.0                  0.0   \n",
       "4                   1.0                    2.0                  NaN   \n",
       "5                   NaN                    NaN                  1.0   \n",
       "6                   4.0                    0.0                  0.0   \n",
       "7                   0.0                    0.0                  0.0   \n",
       "8                   0.0                    0.0                  0.0   \n",
       "9                   0.0                    0.0                  3.0   \n",
       "10                  0.0                    0.0                  0.0   \n",
       "11                  0.0                    0.0                  0.0   \n",
       "12                  0.0                    0.0                  1.0   \n",
       "13                  1.0                    0.0                  0.0   \n",
       "14                  1.0                    0.0                  0.0   \n",
       "\n",
       "   Total.Uninjured Weather.Condition  Broad.phase.of.flight   Report.Status  \\\n",
       "0              0.0               UNK                 Cruise  Probable Cause   \n",
       "1              0.0               UNK                Unknown  Probable Cause   \n",
       "2              NaN               IMC                 Cruise  Probable Cause   \n",
       "3              0.0               IMC                 Cruise  Probable Cause   \n",
       "4              0.0               VMC               Approach  Probable Cause   \n",
       "5             44.0               VMC                  Climb  Probable Cause   \n",
       "6              0.0               IMC                Unknown  Probable Cause   \n",
       "7              2.0               VMC                Takeoff  Probable Cause   \n",
       "8              2.0               IMC                Landing  Probable Cause   \n",
       "9              0.0               IMC                 Cruise  Probable Cause   \n",
       "10             1.0               VMC               Approach  Probable Cause   \n",
       "11             1.0               VMC                Landing  Probable Cause   \n",
       "12             0.0               IMC                 Cruise  Probable Cause   \n",
       "13             0.0               IMC                Takeoff  Probable Cause   \n",
       "14             0.0               IMC                 Cruise  Probable Cause   \n",
       "\n",
       "   Publication.Date  \n",
       "0               NaN  \n",
       "1        19-09-1996  \n",
       "2        26-02-2007  \n",
       "3        12-09-2000  \n",
       "4        16-04-1980  \n",
       "5        19-09-2017  \n",
       "6        06-11-2001  \n",
       "7        01-01-1982  \n",
       "8        01-01-1982  \n",
       "9        01-01-1982  \n",
       "10       01-01-1982  \n",
       "11       01-01-1982  \n",
       "12       02-01-1983  \n",
       "13       02-01-1983  \n",
       "14       02-01-1983  \n",
       "\n",
       "[15 rows x 31 columns]"
      ]
     },
     "execution_count": 5,
     "metadata": {},
     "output_type": "execute_result"
    }
   ],
   "source": [
    "df.head(15)"
   ]
  },
  {
   "cell_type": "code",
   "execution_count": 6,
   "id": "fae9cd1e",
   "metadata": {},
   "outputs": [
    {
     "data": {
      "text/plain": [
       "Event.Id                   1459\n",
       "Investigation.Type            0\n",
       "Accident.Number            1459\n",
       "Event.Date                 1459\n",
       "Location                   1511\n",
       "Country                    1685\n",
       "Latitude                  55966\n",
       "Longitude                 55975\n",
       "Airport.Code              40216\n",
       "Airport.Name              37644\n",
       "Injury.Severity            2459\n",
       "Aircraft.damage            4653\n",
       "Aircraft.Category         58061\n",
       "Registration.Number        2841\n",
       "Make                       1522\n",
       "Model                      1551\n",
       "Amateur.Built              1561\n",
       "Number.of.Engines          7543\n",
       "Engine.Type                8555\n",
       "FAR.Description           58325\n",
       "Schedule                  77766\n",
       "Purpose.of.flight          7651\n",
       "Air.carrier               73700\n",
       "Total.Fatal.Injuries      12860\n",
       "Total.Serious.Injuries    13969\n",
       "Total.Minor.Injuries      13392\n",
       "Total.Uninjured            7371\n",
       "Weather.Condition          5951\n",
       "Broad.phase.of.flight     28624\n",
       "Report.Status              7843\n",
       "Publication.Date          16689\n",
       "dtype: int64"
      ]
     },
     "execution_count": 6,
     "metadata": {},
     "output_type": "execute_result"
    }
   ],
   "source": [
    "# Checking for missing values\n",
    "df.isnull().sum()"
   ]
  },
  {
   "cell_type": "markdown",
   "id": "1b11c392",
   "metadata": {},
   "source": [
    "Since some of the columns have very many missung values, we drop the ones with the most missing values using the .drop method."
   ]
  },
  {
   "cell_type": "code",
   "execution_count": 7,
   "id": "b75675e7",
   "metadata": {},
   "outputs": [],
   "source": [
    "df.drop(['Schedule', 'Air.carrier','FAR.Description','Aircraft.Category','Longitude','Latitude'], axis=1, inplace=True)"
   ]
  },
  {
   "cell_type": "code",
   "execution_count": 8,
   "id": "d651048e",
   "metadata": {},
   "outputs": [
    {
     "data": {
      "text/plain": [
       "Index(['Event.Id', 'Investigation.Type', 'Accident.Number', 'Event.Date',\n",
       "       'Location', 'Country', 'Airport.Code', 'Airport.Name',\n",
       "       'Injury.Severity', 'Aircraft.damage', 'Registration.Number', 'Make',\n",
       "       'Model', 'Amateur.Built', 'Number.of.Engines', 'Engine.Type',\n",
       "       'Purpose.of.flight', 'Total.Fatal.Injuries', 'Total.Serious.Injuries',\n",
       "       'Total.Minor.Injuries', 'Total.Uninjured', 'Weather.Condition',\n",
       "       'Broad.phase.of.flight', 'Report.Status', 'Publication.Date'],\n",
       "      dtype='object')"
      ]
     },
     "execution_count": 8,
     "metadata": {},
     "output_type": "execute_result"
    }
   ],
   "source": [
    "df.columns"
   ]
  },
  {
   "cell_type": "markdown",
   "id": "222168f5",
   "metadata": {},
   "source": [
    "Now that we have dropped the columns with a lot of missing values, we need to fill the rest of the columns with missing values. \n",
    "To fill these columns, e use either mean, median or mode depending on the type of data we are dealing with. \n",
    "So to make it easier, we check the data types of each of the remaining columns to know how to fill each of them."
   ]
  },
  {
   "cell_type": "code",
   "execution_count": 9,
   "id": "b02f984b",
   "metadata": {},
   "outputs": [
    {
     "data": {
      "text/plain": [
       "Event.Id                   object\n",
       "Investigation.Type         object\n",
       "Accident.Number            object\n",
       "Event.Date                 object\n",
       "Location                   object\n",
       "Country                    object\n",
       "Airport.Code               object\n",
       "Airport.Name               object\n",
       "Injury.Severity            object\n",
       "Aircraft.damage            object\n",
       "Registration.Number        object\n",
       "Make                       object\n",
       "Model                      object\n",
       "Amateur.Built              object\n",
       "Number.of.Engines         float64\n",
       "Engine.Type                object\n",
       "Purpose.of.flight          object\n",
       "Total.Fatal.Injuries      float64\n",
       "Total.Serious.Injuries    float64\n",
       "Total.Minor.Injuries      float64\n",
       "Total.Uninjured           float64\n",
       "Weather.Condition          object\n",
       "Broad.phase.of.flight      object\n",
       "Report.Status              object\n",
       "Publication.Date           object\n",
       "dtype: object"
      ]
     },
     "execution_count": 9,
     "metadata": {},
     "output_type": "execute_result"
    }
   ],
   "source": [
    "#We check the data types of the columns to know how to fill the missing values\n",
    "df.dtypes"
   ]
  },
  {
   "cell_type": "code",
   "execution_count": null,
   "id": "ce27e298",
   "metadata": {},
   "outputs": [],
   "source": [
    "**Data Analysis**"
   ]
  },
  {
   "cell_type": "markdown",
   "id": "44d81c79",
   "metadata": {},
   "source": [
    "First we fill the Event.Id. Since this column is used to specifically identify each accident report, we cannot fill it using either mean, median or mean. \n",
    "So i will be filling it with \"unknown\" since i do not want to drop the rows where the event id is missing so as not to lose the data."
   ]
  },
  {
   "cell_type": "code",
   "execution_count": 10,
   "id": "648bc21a",
   "metadata": {},
   "outputs": [],
   "source": [
    "#filling missing values\n",
    "#Filling Event.Id\n",
    "df['Event.Id'].fillna('Unknown', inplace=True)"
   ]
  },
  {
   "cell_type": "markdown",
   "id": "9b4c435d",
   "metadata": {},
   "source": [
    "We do the same to the column \"Accident Number\" since each number is specific to each accident report."
   ]
  },
  {
   "cell_type": "code",
   "execution_count": 11,
   "id": "bf7c0a40",
   "metadata": {},
   "outputs": [],
   "source": [
    "#Filling Accident.Number\n",
    "df['Accident.Number'].fillna('Unknown', inplace=True)"
   ]
  },
  {
   "cell_type": "code",
   "execution_count": 12,
   "id": "b1d7be61",
   "metadata": {},
   "outputs": [],
   "source": [
    "#Filling Registration.Number\n",
    "df['Registration.Number'].fillna('Unknown', inplace=True)"
   ]
  },
  {
   "cell_type": "markdown",
   "id": "8f8fca14",
   "metadata": {},
   "source": [
    "Since filling the missing values with mode for the columns with dates in this specific data set does not make sence, i will drop the missing values in the Event ID column since they are few and leave the missing values in the publication date since they are too many to drop and i cannot fill it using a string since i want its data typr to be date time. I also cannot fill it using a random date or mode since that gives misleading information in this case."
   ]
  },
  {
   "cell_type": "code",
   "execution_count": 13,
   "id": "276ab9ca",
   "metadata": {},
   "outputs": [],
   "source": [
    "#Dropping the rows with missing values in the columns with date\n",
    "df.dropna(subset=['Event.Date'], inplace=True)"
   ]
  },
  {
   "cell_type": "markdown",
   "id": "074f2567",
   "metadata": {},
   "source": [
    "Some of the data set columns might have the wrong data type so we need to convert them to the correct data type. \n",
    "So we convert the columns with dates to the datetime data type."
   ]
  },
  {
   "cell_type": "code",
   "execution_count": 14,
   "id": "8323709d",
   "metadata": {},
   "outputs": [
    {
     "name": "stderr",
     "output_type": "stream",
     "text": [
      "C:\\Users\\Elitebook\\AppData\\Local\\Temp\\ipykernel_14648\\1833200182.py:2: UserWarning: Parsing dates in %d-%m-%Y format when dayfirst=False (the default) was specified. Pass `dayfirst=True` or specify a format to silence this warning.\n",
      "  df['Publication.Date'] = pd.to_datetime(df['Publication.Date'], errors='coerce')\n"
     ]
    }
   ],
   "source": [
    "df['Event.Date'] = pd.to_datetime(df['Event.Date'], errors='coerce')\n",
    "df['Publication.Date'] = pd.to_datetime(df['Publication.Date'], errors='coerce')"
   ]
  },
  {
   "cell_type": "markdown",
   "id": "1d39e6ed",
   "metadata": {},
   "source": [
    "We can also come up with new columns that could help us with the analysis of this dataset."
   ]
  },
  {
   "cell_type": "code",
   "execution_count": 15,
   "id": "e1e042b1",
   "metadata": {},
   "outputs": [],
   "source": [
    "df['year'] = df['Event.Date'].dt.year\n",
    "df['month'] = df['Event.Date'].dt.month"
   ]
  },
  {
   "cell_type": "markdown",
   "id": "dfe2e832",
   "metadata": {},
   "source": [
    "We can also search and see how many accidents happened in the different years "
   ]
  },
  {
   "cell_type": "code",
   "execution_count": 16,
   "id": "f8f736ef",
   "metadata": {},
   "outputs": [
    {
     "data": {
      "text/plain": [
       "year\n",
       "1948       1\n",
       "1962       1\n",
       "1974       1\n",
       "1977       1\n",
       "1979       2\n",
       "1981       1\n",
       "1982    3593\n",
       "1983    3556\n",
       "1984    3457\n",
       "1985    3096\n",
       "1986    2880\n",
       "1987    2828\n",
       "1988    2730\n",
       "1989    2544\n",
       "1990    2518\n",
       "1991    2462\n",
       "1992    2355\n",
       "1993    2313\n",
       "1994    2257\n",
       "1995    2309\n",
       "1996    2187\n",
       "1997    2148\n",
       "1998    2226\n",
       "1999    2209\n",
       "2000    2220\n",
       "2001    2063\n",
       "2002    2020\n",
       "2003    2085\n",
       "2004    1952\n",
       "2005    2031\n",
       "2006    1851\n",
       "2007    2016\n",
       "2008    1893\n",
       "2009    1783\n",
       "2010    1786\n",
       "2011    1850\n",
       "2012    1835\n",
       "2013    1561\n",
       "2014    1535\n",
       "2015    1582\n",
       "2016    1664\n",
       "2017    1638\n",
       "2018    1681\n",
       "2019    1624\n",
       "2020    1392\n",
       "2021    1545\n",
       "2022    1607\n",
       "Name: count, dtype: int64"
      ]
     },
     "execution_count": 16,
     "metadata": {},
     "output_type": "execute_result"
    }
   ],
   "source": [
    "df['year'].value_counts().sort_index()"
   ]
  },
  {
   "cell_type": "markdown",
   "id": "62088041",
   "metadata": {},
   "source": [
    "Now, for the columns whose data types are object, we use mode for each of them to fill the missing values.\n",
    "To do this, we have to look for the mode of each column with an object data type."
   ]
  },
  {
   "cell_type": "code",
   "execution_count": 17,
   "id": "a46028d9",
   "metadata": {},
   "outputs": [
    {
     "data": {
      "text/plain": [
       "Index(['Event.Id', 'Investigation.Type', 'Accident.Number', 'Location',\n",
       "       'Country', 'Airport.Code', 'Airport.Name', 'Injury.Severity',\n",
       "       'Aircraft.damage', 'Registration.Number', 'Make', 'Model',\n",
       "       'Amateur.Built', 'Engine.Type', 'Purpose.of.flight',\n",
       "       'Weather.Condition', 'Broad.phase.of.flight', 'Report.Status'],\n",
       "      dtype='object')"
      ]
     },
     "execution_count": 17,
     "metadata": {},
     "output_type": "execute_result"
    }
   ],
   "source": [
    "#checking for object data types\n",
    "obj_df = df.select_dtypes(include=['object'])\n",
    "obj_df.columns"
   ]
  },
  {
   "cell_type": "markdown",
   "id": "3cb6befb",
   "metadata": {},
   "source": [
    "We replace the remaining columns with the object data type with mode."
   ]
  },
  {
   "cell_type": "code",
   "execution_count": 18,
   "id": "98cb0054",
   "metadata": {},
   "outputs": [],
   "source": [
    "#Fill all the missing values in the columns with object data type with mode\n",
    "for col in obj_df.columns:\n",
    "    mode_value = df[col].mode()[0]\n",
    "    df[col].fillna(mode_value, inplace=True)"
   ]
  },
  {
   "cell_type": "code",
   "execution_count": 19,
   "id": "c05e2ced",
   "metadata": {},
   "outputs": [
    {
     "data": {
      "text/plain": [
       "Event.Id                      0\n",
       "Investigation.Type            0\n",
       "Accident.Number               0\n",
       "Event.Date                    0\n",
       "Location                      0\n",
       "Country                       0\n",
       "Airport.Code                  0\n",
       "Airport.Name                  0\n",
       "Injury.Severity               0\n",
       "Aircraft.damage               0\n",
       "Registration.Number           0\n",
       "Make                          0\n",
       "Model                         0\n",
       "Amateur.Built                 0\n",
       "Number.of.Engines          6084\n",
       "Engine.Type                   0\n",
       "Purpose.of.flight             0\n",
       "Total.Fatal.Injuries      11401\n",
       "Total.Serious.Injuries    12510\n",
       "Total.Minor.Injuries      11933\n",
       "Total.Uninjured            5912\n",
       "Weather.Condition             0\n",
       "Broad.phase.of.flight         0\n",
       "Report.Status                 0\n",
       "Publication.Date          15230\n",
       "year                          0\n",
       "month                         0\n",
       "dtype: int64"
      ]
     },
     "execution_count": 19,
     "metadata": {},
     "output_type": "execute_result"
    }
   ],
   "source": [
    "#Checking the remaining missing values\n",
    "df.isnull().sum()"
   ]
  },
  {
   "cell_type": "markdown",
   "id": "3c6e50ee",
   "metadata": {},
   "source": [
    "Now that we have filled the columns with the object data type, we now fill the columns with the float data type.\n",
    "We use mean or mode."
   ]
  },
  {
   "cell_type": "markdown",
   "id": "6e18b371",
   "metadata": {},
   "source": [
    "To know whether to use mean or median, we check for skewness of the values in that specific column. Skewness is whether there are many outliers. "
   ]
  },
  {
   "cell_type": "markdown",
   "id": "42310dd9",
   "metadata": {},
   "source": [
    "When we use the .skew() method, a value equals to 0 means the data is perfectly symmetrical. A value greater than 0 means the data is positively skewed, while a value less than 0 means the data is negatively skewed. A common threshold to determine whether to use mean or median is 0.5. If the absolute value of skewness is greater than 0.5, we use median; otherwise, we use mean."
   ]
  },
  {
   "cell_type": "code",
   "execution_count": 20,
   "id": "c393edf4",
   "metadata": {},
   "outputs": [
    {
     "data": {
      "text/plain": [
       "Index(['Number.of.Engines', 'Total.Fatal.Injuries', 'Total.Serious.Injuries',\n",
       "       'Total.Minor.Injuries', 'Total.Uninjured'],\n",
       "      dtype='object')"
      ]
     },
     "execution_count": 20,
     "metadata": {},
     "output_type": "execute_result"
    }
   ],
   "source": [
    "#Check for skewnwess in the columns with float data type\n",
    "float_df = df.select_dtypes(include=['float64'])\n",
    "float_df.columns\n"
   ]
  },
  {
   "cell_type": "code",
   "execution_count": 21,
   "id": "10c4b213",
   "metadata": {},
   "outputs": [
    {
     "data": {
      "text/plain": [
       "2.5759041872764232"
      ]
     },
     "execution_count": 21,
     "metadata": {},
     "output_type": "execute_result"
    }
   ],
   "source": [
    "df['Number.of.Engines'].skew()"
   ]
  },
  {
   "cell_type": "code",
   "execution_count": 22,
   "id": "4ab2dff5",
   "metadata": {},
   "outputs": [
    {
     "data": {
      "text/plain": [
       "33.01867532377133"
      ]
     },
     "execution_count": 22,
     "metadata": {},
     "output_type": "execute_result"
    }
   ],
   "source": [
    "df['Total.Fatal.Injuries'].skew() "
   ]
  },
  {
   "cell_type": "code",
   "execution_count": 23,
   "id": "5bde53cb",
   "metadata": {},
   "outputs": [
    {
     "data": {
      "text/plain": [
       "87.26947645182727"
      ]
     },
     "execution_count": 23,
     "metadata": {},
     "output_type": "execute_result"
    }
   ],
   "source": [
    "df['Total.Minor.Injuries'].skew()"
   ]
  },
  {
   "cell_type": "code",
   "execution_count": 24,
   "id": "54d334a1",
   "metadata": {},
   "outputs": [
    {
     "data": {
      "text/plain": [
       "49.40002484924553"
      ]
     },
     "execution_count": 24,
     "metadata": {},
     "output_type": "execute_result"
    }
   ],
   "source": [
    "df['Total.Serious.Injuries'].skew()"
   ]
  },
  {
   "cell_type": "code",
   "execution_count": 25,
   "id": "05efaf96",
   "metadata": {},
   "outputs": [
    {
     "data": {
      "text/plain": [
       "9.086104094841762"
      ]
     },
     "execution_count": 25,
     "metadata": {},
     "output_type": "execute_result"
    }
   ],
   "source": [
    "df['Total.Uninjured'].skew()"
   ]
  },
  {
   "cell_type": "markdown",
   "id": "0f963c26",
   "metadata": {},
   "source": [
    "So all the columns above are Skewed so we are going to use median to fill the missing values in the column with the floar, which means integer, data type. "
   ]
  },
  {
   "cell_type": "code",
   "execution_count": 26,
   "id": "e49d1480",
   "metadata": {},
   "outputs": [],
   "source": [
    "#We look for the median to fill the missing values in the columns with float data type\n",
    "for col in float_df.columns:\n",
    "    median_value = df[col].median()\n",
    "    df[col].fillna(median_value, inplace=True)"
   ]
  },
  {
   "cell_type": "code",
   "execution_count": 27,
   "id": "c5706bcc",
   "metadata": {},
   "outputs": [
    {
     "data": {
      "text/plain": [
       "Event.Id                      0\n",
       "Investigation.Type            0\n",
       "Accident.Number               0\n",
       "Event.Date                    0\n",
       "Location                      0\n",
       "Country                       0\n",
       "Airport.Code                  0\n",
       "Airport.Name                  0\n",
       "Injury.Severity               0\n",
       "Aircraft.damage               0\n",
       "Registration.Number           0\n",
       "Make                          0\n",
       "Model                         0\n",
       "Amateur.Built                 0\n",
       "Number.of.Engines             0\n",
       "Engine.Type                   0\n",
       "Purpose.of.flight             0\n",
       "Total.Fatal.Injuries          0\n",
       "Total.Serious.Injuries        0\n",
       "Total.Minor.Injuries          0\n",
       "Total.Uninjured               0\n",
       "Weather.Condition             0\n",
       "Broad.phase.of.flight         0\n",
       "Report.Status                 0\n",
       "Publication.Date          15230\n",
       "year                          0\n",
       "month                         0\n",
       "dtype: int64"
      ]
     },
     "execution_count": 27,
     "metadata": {},
     "output_type": "execute_result"
    }
   ],
   "source": [
    "df.isna().sum()"
   ]
  },
  {
   "cell_type": "markdown",
   "id": "701f1ab0",
   "metadata": {},
   "source": [
    "Now that we have cleaned the data set, we can now start our analysis and visualization."
   ]
  },
  {
   "cell_type": "markdown",
   "id": "bb863e94",
   "metadata": {},
   "source": [
    "First let us save our clean data set."
   ]
  },
  {
   "cell_type": "code",
   "execution_count": 29,
   "id": "98e25196",
   "metadata": {},
   "outputs": [],
   "source": [
    "df.to_csv('Clean_Aviation_Data.csv', index=False)"
   ]
  },
  {
   "cell_type": "markdown",
   "id": "e73a8c35",
   "metadata": {},
   "source": [
    "**Data Visualization**"
   ]
  },
  {
   "cell_type": "markdown",
   "id": "8e2c1b88",
   "metadata": {},
   "source": [
    "We now create different types of visualizations to help better analyse and form conclusions about the data set. "
   ]
  },
  {
   "cell_type": "code",
   "execution_count": 31,
   "id": "d1ac92f0",
   "metadata": {},
   "outputs": [
    {
     "data": {
      "image/png": "[encoded data removed]",
      "text/plain": [
       "<Figure size 1000x600 with 1 Axes>"
      ]
     },
     "metadata": {},
     "output_type": "display_data"
    }
   ],
   "source": [
    "# A line graph to show the trend of accidents over the years\n",
    "plt.figure(figsize=(10,6))\n",
    "accidents_per_year = df['year'].value_counts().sort_index()\n",
    "plt.plot(accidents_per_year.index, accidents_per_year.values, marker='o')\n",
    "plt.title('Number of Accidents per Year')\n",
    "plt.xlabel('Year')\n",
    "plt.ylabel('Number of Accidents')\n",
    "plt.show()"
   ]
  },
  {
   "cell_type": "markdown",
   "id": "f67f55c9",
   "metadata": {},
   "source": [
    "The line graph aboove shows thta the number of accidents were at its highest at 1980's and since then the number of accidents is decreasing. \n",
    "conclusion: This is encouraging as we see that the plane technology is advancing slowly year by year making this type of travel safer."
   ]
  },
  {
   "cell_type": "code",
   "execution_count": 41,
   "id": "9a667995",
   "metadata": {},
   "outputs": [
    {
     "name": "stderr",
     "output_type": "stream",
     "text": [
      "C:\\Users\\Elitebook\\AppData\\Local\\Temp\\ipykernel_14648\\1833085643.py:3: FutureWarning: \n",
      "\n",
      "The `ci` parameter is deprecated. Use `errorbar=None` for the same effect.\n",
      "\n",
      "  sns.barplot(x='Amateur.Built', y='Total.Fatal.Injuries', data=df, order=df['Amateur.Built'].value_counts().index, ci=None)\n"
     ]
    },
    {
     "data": {
      "image/png": "[encoded data removed]",
      "text/plain": [
       "<Figure size 1000x600 with 1 Axes>"
      ]
     },
     "metadata": {},
     "output_type": "display_data"
    }
   ],
   "source": [
    "# A bar graph to show the Total fatal Injuries vs Amateur Built\n",
    "plt.figure(figsize=(10,6))\n",
    "sns.barplot(x='Amateur.Built', y='Total.Fatal.Injuries', data=df, order=df['Amateur.Built'].value_counts().index, ci=None) \n",
    "plt.title('Total Fatal Accidents vs Amateur Built')\n",
    "plt.xlabel('Amateur Built')\n",
    "plt.ylabel('Total Fatal Accidents')\n",
    "plt.show()"
   ]
  },
  {
   "cell_type": "markdown",
   "id": "a1e24d82",
   "metadata": {},
   "source": [
    "This shows that those aircrafts which were built but amateurs or at home got into far less accidents than the ones manufactured by big factories.\n",
    "\n",
    "Recommendations: When venturing into this new business path, i would suggest you get or buy your aircrafts from a non-factory seller or distributor because they are  more safe to travel in as shown in this data set as compared to factory manufactured ones. "
   ]
  },
  {
   "cell_type": "markdown",
   "id": "cf4664a0",
   "metadata": {},
   "source": [
    "A bar graph of Weather Condition against Total Minor Injuries"
   ]
  },
  {
   "cell_type": "code",
   "execution_count": 42,
   "id": "0e7e7997",
   "metadata": {},
   "outputs": [
    {
     "name": "stderr",
     "output_type": "stream",
     "text": [
      "C:\\Users\\Elitebook\\AppData\\Local\\Temp\\ipykernel_14648\\2221561087.py:3: FutureWarning: \n",
      "\n",
      "The `ci` parameter is deprecated. Use `errorbar=None` for the same effect.\n",
      "\n",
      "  sns.barplot(x='Weather.Condition', y='Total.Minor.Injuries', data=df, order=df['Weather.Condition'].value_counts().index, ci=None)\n"
     ]
    },
    {
     "data": {
      "image/png": "[encoded data removed]",
      "text/plain": [
       "<Figure size 1000x600 with 1 Axes>"
      ]
     },
     "metadata": {},
     "output_type": "display_data"
    }
   ],
   "source": [
    "#A bar graph of Weather Condition against Total Minor Injuries\n",
    "plt.figure(figsize=(10,6))\n",
    "sns.barplot(x='Weather.Condition', y='Total.Minor.Injuries', data=df, order=df['Weather.Condition'].value_counts().index, ci=None)\n",
    "plt.title('Weather Condition vs Total Serious Injuries')\n",
    "plt.xlabel('Weather Condition')\n",
    "plt.ylabel('Total Serious Injuries')\n",
    "plt.show()"
   ]
  },
  {
   "cell_type": "markdown",
   "id": "03c80689",
   "metadata": {},
   "source": [
    "VMC(Visual Meteorological Conditios) mean that the weather was clear enough and often linked to human error, mechanical failure or mid-air collision\n",
    "\n",
    "IMC (Istrument Meteorological Conditions) mean that the weather is poor so pilots must rely on instruments. often linked to navigation mistakes, loss of control, or weather hazards. \n",
    "\n",
    "UNK means that the weather could not be determined.\n",
    "\n",
    "Recommendations: As we can see, the IMC caused the most serious accidents. From this, i recommend that when purchasing the plane, to purchase one with the latest and up to date equipment and instruments to avoid technical difficulties while up in the air"
   ]
  },
  {
   "cell_type": "code",
   "execution_count": 43,
   "id": "be13936b",
   "metadata": {},
   "outputs": [
    {
     "name": "stderr",
     "output_type": "stream",
     "text": [
      "C:\\Users\\Elitebook\\AppData\\Local\\Temp\\ipykernel_14648\\2757600541.py:3: FutureWarning: \n",
      "\n",
      "The `ci` parameter is deprecated. Use `errorbar=None` for the same effect.\n",
      "\n",
      "  sns.barplot(x='Number.of.Engines', y='Total.Fatal.Injuries', data=df, order=df['Number.of.Engines'].value_counts().index, ci=None)\n"
     ]
    },
    {
     "data": {
      "image/png": "[encoded data removed]",
      "text/plain": [
       "<Figure size 1000x600 with 1 Axes>"
      ]
     },
     "metadata": {},
     "output_type": "display_data"
    }
   ],
   "source": [
    "#Visualization of Number of Engines against Total Fatal Injuries\n",
    "plt.figure(figsize=(10,6))\n",
    "sns.barplot(x='Number.of.Engines', y='Total.Fatal.Injuries', data=df, order=df['Number.of.Engines'].value_counts().index, ci=None)\n",
    "plt.title('Number of Engines vs Total Fatal Injuries')\n",
    "plt.xlabel('Number of Engines')\n",
    "plt.ylabel('Total Fatal Injuries')\n",
    "plt.show()"
   ]
  },
  {
   "cell_type": "markdown",
   "id": "87eceffa",
   "metadata": {},
   "source": [
    "The above visualization shows that the the aircrafts with more than two engines get into considerably more fatal accidents than those with either one or two. \n",
    "\n",
    "Recommendation: When buting an aircraft, i would reccomend to get the ones with fewer engines as these show that they are much safer to travel in."
   ]
  },
  {
   "cell_type": "markdown",
   "id": "12802835",
   "metadata": {},
   "source": [
    "A visualisation of year vs Total Fatal injuries"
   ]
  },
  {
   "cell_type": "code",
   "execution_count": 44,
   "id": "3497692d",
   "metadata": {},
   "outputs": [
    {
     "data": {
      "image/png": "[encoded data removed]",
      "text/plain": [
       "<Figure size 1000x600 with 1 Axes>"
      ]
     },
     "metadata": {},
     "output_type": "display_data"
    }
   ],
   "source": [
    "#A line graph to show the trend of Total Fatal Injuries over the years\n",
    "plt.figure(figsize=(10,6))\n",
    "fatal_injuries_per_year = df.groupby('year')['Total.Fatal.Injuries'].sum()\n",
    "plt.plot(fatal_injuries_per_year.index, fatal_injuries_per_year.values,marker='o', color='red')\n",
    "plt.title('Total Fatal Injuries per Year')\n",
    "plt.xlabel('Year')\n",
    "plt.ylabel('Total Fatal Injuries') \n",
    "plt.show()"
   ]
  },
  {
   "cell_type": "markdown",
   "id": "911ffb69",
   "metadata": {},
   "source": [
    "This line graph shows that the number of fatal injuries have decrease over the years from 1982-2020 except for the sudden high increase around 1995."
   ]
  },
  {
   "cell_type": "code",
   "execution_count": 45,
   "id": "291e2cca",
   "metadata": {},
   "outputs": [
    {
     "data": {
      "image/png": "[encoded data removed]",
      "text/plain": [
       "<Figure size 1000x600 with 1 Axes>"
      ]
     },
     "metadata": {},
     "output_type": "display_data"
    }
   ],
   "source": [
    "#A line graph to show the trend of Total Serious Injuries over the years\n",
    "plt.figure(figsize=(10,6))\n",
    "serious_injuries_per_year = df.groupby('year')['Total.Serious.Injuries'].sum()\n",
    "plt.plot(serious_injuries_per_year.index, serious_injuries_per_year.values, marker='o', color='green')\n",
    "plt.title('Total Serious Injuries per Year')\n",
    "plt.xlabel('Year')\n",
    "plt.ylabel('Total Serious Injuries')\n",
    "plt.show()"
   ]
  },
  {
   "cell_type": "markdown",
   "id": "581959b8",
   "metadata": {},
   "source": [
    "This line graph shows that the number of serious injuries have decreased from 1982-2020 except from the sudden increase around 2010."
   ]
  },
  {
   "cell_type": "markdown",
   "id": "53330407",
   "metadata": {},
   "source": [
    "Recommendation: This business path is not without risk but from the trend, the number of risks are reducing. I recommend that as you get into this business, you choose good personnel and good machines.\n",
    "I also recommend that as you get into this business path, you focus on preventive and safety methods to prevent the frequent occurence of these risks."
   ]
  },
  {
   "cell_type": "markdown",
   "id": "315e32ff",
   "metadata": {},
   "source": []
  }
 ],
 "metadata": {
  "kernelspec": {
   "display_name": "base",
   "language": "python",
   "name": "python3"
  },
  "language_info": {
   "codemirror_mode": {
    "name": "ipython",
    "version": 3
   },
   "file_extension": ".py",
   "mimetype": "text/x-python",
   "name": "python",
   "nbconvert_exporter": "python",
   "pygments_lexer": "ipython3",
   "version": "3.11.7"
  }
 },
 "nbformat": 4,
 "nbformat_minor": 5
}
